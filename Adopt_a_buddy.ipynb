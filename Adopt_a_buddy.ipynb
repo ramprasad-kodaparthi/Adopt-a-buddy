{
  "nbformat": 4,
  "nbformat_minor": 0,
  "metadata": {
    "colab": {
      "provenance": []
    },
    "kernelspec": {
      "name": "python3",
      "display_name": "Python 3"
    }
  },
  "cells": [
    {
      "cell_type": "code",
      "execution_count": 1,
      "metadata": {
        "colab": {
          "base_uri": "https://localhost:8080/"
        },
        "id": "iyRiltB_0tPy",
        "outputId": "15f926f6-f091-437c-f285-971fef4c6735"
      },
      "outputs": [
        {
          "output_type": "stream",
          "name": "stdout",
          "text": [
            "Done!\n"
          ]
        }
      ],
      "source": [
        "# extract zip code\n",
        "from zipfile import ZipFile\n",
        "filename = \"/content/a01c26dcd27711ea.zip\"\n",
        "\n",
        "with ZipFile(filename,'r') as zip:\n",
        "  zip.extractall()\n",
        "  print(\"Done!\")"
      ]
    },
    {
      "cell_type": "markdown",
      "source": [
        "##Import libraries"
      ],
      "metadata": {
        "id": "Ibpt4w0B9Bv9"
      }
    },
    {
      "cell_type": "code",
      "source": [
        "import pandas as pd\n",
        "import numpy as np\n",
        "import seaborn as sns\n",
        "import matplotlib.pyplot as plt\n",
        "%matplotlib inline"
      ],
      "metadata": {
        "id": "1B8L3W6B2mbt"
      },
      "execution_count": 16,
      "outputs": []
    },
    {
      "cell_type": "markdown",
      "source": [
        "##Data preprocessing"
      ],
      "metadata": {
        "id": "dWknHTPs9HGY"
      }
    },
    {
      "cell_type": "code",
      "source": [
        "# Read Data from csv to dataframe\n",
        "df = pd.read_csv(\"/content/Dataset/train.csv\")\n",
        "df.head()"
      ],
      "metadata": {
        "colab": {
          "base_uri": "https://localhost:8080/",
          "height": 206
        },
        "id": "fc_9cbFS2pXd",
        "outputId": "f18e2efa-9dc6-4605-e03e-42257cd841d4"
      },
      "execution_count": 3,
      "outputs": [
        {
          "output_type": "execute_result",
          "data": {
            "text/plain": [
              "       pet_id           issue_date         listing_date  condition  \\\n",
              "0  ANSL_69903  2016-07-10 00:00:00  2016-09-21 16:25:00        2.0   \n",
              "1  ANSL_66892  2013-11-21 00:00:00  2018-12-27 17:47:00        1.0   \n",
              "2  ANSL_69750  2014-09-28 00:00:00  2016-10-19 08:24:00        NaN   \n",
              "3  ANSL_71623  2016-12-31 00:00:00  2019-01-25 18:30:00        1.0   \n",
              "4  ANSL_57969  2017-09-28 00:00:00  2017-11-19 09:38:00        2.0   \n",
              "\n",
              "    color_type  length(m)  height(cm)  X1  X2  breed_category  pet_category  \n",
              "0  Brown Tabby       0.80        7.78  13   9             0.0             1  \n",
              "1        White       0.72       14.19  13   9             0.0             2  \n",
              "2        Brown       0.15       40.90  15   4             2.0             4  \n",
              "3        White       0.62       17.82   0   1             0.0             2  \n",
              "4        Black       0.50       11.06  18   4             0.0             1  "
            ],
            "text/html": [
              "\n",
              "  <div id=\"df-7f52bed5-b436-4114-91f6-fbd2d6447e25\">\n",
              "    <div class=\"colab-df-container\">\n",
              "      <div>\n",
              "<style scoped>\n",
              "    .dataframe tbody tr th:only-of-type {\n",
              "        vertical-align: middle;\n",
              "    }\n",
              "\n",
              "    .dataframe tbody tr th {\n",
              "        vertical-align: top;\n",
              "    }\n",
              "\n",
              "    .dataframe thead th {\n",
              "        text-align: right;\n",
              "    }\n",
              "</style>\n",
              "<table border=\"1\" class=\"dataframe\">\n",
              "  <thead>\n",
              "    <tr style=\"text-align: right;\">\n",
              "      <th></th>\n",
              "      <th>pet_id</th>\n",
              "      <th>issue_date</th>\n",
              "      <th>listing_date</th>\n",
              "      <th>condition</th>\n",
              "      <th>color_type</th>\n",
              "      <th>length(m)</th>\n",
              "      <th>height(cm)</th>\n",
              "      <th>X1</th>\n",
              "      <th>X2</th>\n",
              "      <th>breed_category</th>\n",
              "      <th>pet_category</th>\n",
              "    </tr>\n",
              "  </thead>\n",
              "  <tbody>\n",
              "    <tr>\n",
              "      <th>0</th>\n",
              "      <td>ANSL_69903</td>\n",
              "      <td>2016-07-10 00:00:00</td>\n",
              "      <td>2016-09-21 16:25:00</td>\n",
              "      <td>2.0</td>\n",
              "      <td>Brown Tabby</td>\n",
              "      <td>0.80</td>\n",
              "      <td>7.78</td>\n",
              "      <td>13</td>\n",
              "      <td>9</td>\n",
              "      <td>0.0</td>\n",
              "      <td>1</td>\n",
              "    </tr>\n",
              "    <tr>\n",
              "      <th>1</th>\n",
              "      <td>ANSL_66892</td>\n",
              "      <td>2013-11-21 00:00:00</td>\n",
              "      <td>2018-12-27 17:47:00</td>\n",
              "      <td>1.0</td>\n",
              "      <td>White</td>\n",
              "      <td>0.72</td>\n",
              "      <td>14.19</td>\n",
              "      <td>13</td>\n",
              "      <td>9</td>\n",
              "      <td>0.0</td>\n",
              "      <td>2</td>\n",
              "    </tr>\n",
              "    <tr>\n",
              "      <th>2</th>\n",
              "      <td>ANSL_69750</td>\n",
              "      <td>2014-09-28 00:00:00</td>\n",
              "      <td>2016-10-19 08:24:00</td>\n",
              "      <td>NaN</td>\n",
              "      <td>Brown</td>\n",
              "      <td>0.15</td>\n",
              "      <td>40.90</td>\n",
              "      <td>15</td>\n",
              "      <td>4</td>\n",
              "      <td>2.0</td>\n",
              "      <td>4</td>\n",
              "    </tr>\n",
              "    <tr>\n",
              "      <th>3</th>\n",
              "      <td>ANSL_71623</td>\n",
              "      <td>2016-12-31 00:00:00</td>\n",
              "      <td>2019-01-25 18:30:00</td>\n",
              "      <td>1.0</td>\n",
              "      <td>White</td>\n",
              "      <td>0.62</td>\n",
              "      <td>17.82</td>\n",
              "      <td>0</td>\n",
              "      <td>1</td>\n",
              "      <td>0.0</td>\n",
              "      <td>2</td>\n",
              "    </tr>\n",
              "    <tr>\n",
              "      <th>4</th>\n",
              "      <td>ANSL_57969</td>\n",
              "      <td>2017-09-28 00:00:00</td>\n",
              "      <td>2017-11-19 09:38:00</td>\n",
              "      <td>2.0</td>\n",
              "      <td>Black</td>\n",
              "      <td>0.50</td>\n",
              "      <td>11.06</td>\n",
              "      <td>18</td>\n",
              "      <td>4</td>\n",
              "      <td>0.0</td>\n",
              "      <td>1</td>\n",
              "    </tr>\n",
              "  </tbody>\n",
              "</table>\n",
              "</div>\n",
              "      <button class=\"colab-df-convert\" onclick=\"convertToInteractive('df-7f52bed5-b436-4114-91f6-fbd2d6447e25')\"\n",
              "              title=\"Convert this dataframe to an interactive table.\"\n",
              "              style=\"display:none;\">\n",
              "        \n",
              "  <svg xmlns=\"http://www.w3.org/2000/svg\" height=\"24px\"viewBox=\"0 0 24 24\"\n",
              "       width=\"24px\">\n",
              "    <path d=\"M0 0h24v24H0V0z\" fill=\"none\"/>\n",
              "    <path d=\"M18.56 5.44l.94 2.06.94-2.06 2.06-.94-2.06-.94-.94-2.06-.94 2.06-2.06.94zm-11 1L8.5 8.5l.94-2.06 2.06-.94-2.06-.94L8.5 2.5l-.94 2.06-2.06.94zm10 10l.94 2.06.94-2.06 2.06-.94-2.06-.94-.94-2.06-.94 2.06-2.06.94z\"/><path d=\"M17.41 7.96l-1.37-1.37c-.4-.4-.92-.59-1.43-.59-.52 0-1.04.2-1.43.59L10.3 9.45l-7.72 7.72c-.78.78-.78 2.05 0 2.83L4 21.41c.39.39.9.59 1.41.59.51 0 1.02-.2 1.41-.59l7.78-7.78 2.81-2.81c.8-.78.8-2.07 0-2.86zM5.41 20L4 18.59l7.72-7.72 1.47 1.35L5.41 20z\"/>\n",
              "  </svg>\n",
              "      </button>\n",
              "      \n",
              "  <style>\n",
              "    .colab-df-container {\n",
              "      display:flex;\n",
              "      flex-wrap:wrap;\n",
              "      gap: 12px;\n",
              "    }\n",
              "\n",
              "    .colab-df-convert {\n",
              "      background-color: #E8F0FE;\n",
              "      border: none;\n",
              "      border-radius: 50%;\n",
              "      cursor: pointer;\n",
              "      display: none;\n",
              "      fill: #1967D2;\n",
              "      height: 32px;\n",
              "      padding: 0 0 0 0;\n",
              "      width: 32px;\n",
              "    }\n",
              "\n",
              "    .colab-df-convert:hover {\n",
              "      background-color: #E2EBFA;\n",
              "      box-shadow: 0px 1px 2px rgba(60, 64, 67, 0.3), 0px 1px 3px 1px rgba(60, 64, 67, 0.15);\n",
              "      fill: #174EA6;\n",
              "    }\n",
              "\n",
              "    [theme=dark] .colab-df-convert {\n",
              "      background-color: #3B4455;\n",
              "      fill: #D2E3FC;\n",
              "    }\n",
              "\n",
              "    [theme=dark] .colab-df-convert:hover {\n",
              "      background-color: #434B5C;\n",
              "      box-shadow: 0px 1px 3px 1px rgba(0, 0, 0, 0.15);\n",
              "      filter: drop-shadow(0px 1px 2px rgba(0, 0, 0, 0.3));\n",
              "      fill: #FFFFFF;\n",
              "    }\n",
              "  </style>\n",
              "\n",
              "      <script>\n",
              "        const buttonEl =\n",
              "          document.querySelector('#df-7f52bed5-b436-4114-91f6-fbd2d6447e25 button.colab-df-convert');\n",
              "        buttonEl.style.display =\n",
              "          google.colab.kernel.accessAllowed ? 'block' : 'none';\n",
              "\n",
              "        async function convertToInteractive(key) {\n",
              "          const element = document.querySelector('#df-7f52bed5-b436-4114-91f6-fbd2d6447e25');\n",
              "          const dataTable =\n",
              "            await google.colab.kernel.invokeFunction('convertToInteractive',\n",
              "                                                     [key], {});\n",
              "          if (!dataTable) return;\n",
              "\n",
              "          const docLinkHtml = 'Like what you see? Visit the ' +\n",
              "            '<a target=\"_blank\" href=https://colab.research.google.com/notebooks/data_table.ipynb>data table notebook</a>'\n",
              "            + ' to learn more about interactive tables.';\n",
              "          element.innerHTML = '';\n",
              "          dataTable['output_type'] = 'display_data';\n",
              "          await google.colab.output.renderOutput(dataTable, element);\n",
              "          const docLink = document.createElement('div');\n",
              "          docLink.innerHTML = docLinkHtml;\n",
              "          element.appendChild(docLink);\n",
              "        }\n",
              "      </script>\n",
              "    </div>\n",
              "  </div>\n",
              "  "
            ]
          },
          "metadata": {},
          "execution_count": 3
        }
      ]
    },
    {
      "cell_type": "code",
      "source": [
        "#taking days count by using two give dates\n",
        "import datetime as dt\n",
        "\n",
        "a = []\n",
        "b=df['issue_date']\n",
        "c=df['listing_date']\n",
        "for i in range(0,18834):\n",
        "  x,y = b[i].split()\n",
        "  y1,m1,d1 = (x).split('-')\n",
        "  x,y = c[i].split()\n",
        "  y2,m2,d2 = (x).split('-')\n",
        "  start = dt.date(int(y1),int(m1),int(d1))\n",
        "  end   = dt.date(int(y2),int(m2),int(d2))\n",
        "  nd=np.busday_count(start , end)\n",
        "  a.append(nd)\n",
        "\n",
        "print(len(a))\n",
        "df['daycount']= a\n",
        "df['area'] = df['height(cm)']*df['length(m)']"
      ],
      "metadata": {
        "colab": {
          "base_uri": "https://localhost:8080/"
        },
        "id": "1PFBwept3FMf",
        "outputId": "8f0a1202-480e-416e-b4bf-fc4766654099"
      },
      "execution_count": 4,
      "outputs": [
        {
          "output_type": "stream",
          "name": "stdout",
          "text": [
            "18834\n"
          ]
        }
      ]
    },
    {
      "cell_type": "code",
      "source": [
        "#df.shape\n",
        "#df['condition'].value_counts()\n",
        "df.isnull().sum()"
      ],
      "metadata": {
        "colab": {
          "base_uri": "https://localhost:8080/"
        },
        "id": "jTc6ajET32gm",
        "outputId": "3b993bfc-1f34-4c6f-8cdd-fbaef75e9f93"
      },
      "execution_count": 5,
      "outputs": [
        {
          "output_type": "execute_result",
          "data": {
            "text/plain": [
              "pet_id               0\n",
              "issue_date           0\n",
              "listing_date         0\n",
              "condition         1477\n",
              "color_type           0\n",
              "length(m)            0\n",
              "height(cm)           0\n",
              "X1                   0\n",
              "X2                   0\n",
              "breed_category       0\n",
              "pet_category         0\n",
              "daycount             0\n",
              "area                 0\n",
              "dtype: int64"
            ]
          },
          "metadata": {},
          "execution_count": 5
        }
      ]
    },
    {
      "cell_type": "code",
      "source": [
        "df.dtypes"
      ],
      "metadata": {
        "colab": {
          "base_uri": "https://localhost:8080/"
        },
        "id": "_YkXtBoE3391",
        "outputId": "20c7a67d-7bc3-43f1-e48c-19d8aacdc943"
      },
      "execution_count": 6,
      "outputs": [
        {
          "output_type": "execute_result",
          "data": {
            "text/plain": [
              "pet_id             object\n",
              "issue_date         object\n",
              "listing_date       object\n",
              "condition         float64\n",
              "color_type         object\n",
              "length(m)         float64\n",
              "height(cm)        float64\n",
              "X1                  int64\n",
              "X2                  int64\n",
              "breed_category    float64\n",
              "pet_category        int64\n",
              "daycount            int64\n",
              "area              float64\n",
              "dtype: object"
            ]
          },
          "metadata": {},
          "execution_count": 6
        }
      ]
    },
    {
      "cell_type": "code",
      "source": [
        "df = df.replace(to_replace = np.nan, value = -1.0) "
      ],
      "metadata": {
        "id": "a0Zq4_Wc4hiM"
      },
      "execution_count": 7,
      "outputs": []
    },
    {
      "cell_type": "code",
      "source": [
        "df['condition'].value_counts()"
      ],
      "metadata": {
        "colab": {
          "base_uri": "https://localhost:8080/"
        },
        "id": "6IbJPTPz4qrN",
        "outputId": "17b8d1bc-e25a-496d-e40c-fa0901ef18de"
      },
      "execution_count": 8,
      "outputs": [
        {
          "output_type": "execute_result",
          "data": {
            "text/plain": [
              " 1.0    6819\n",
              " 0.0    6281\n",
              " 2.0    4257\n",
              "-1.0    1477\n",
              "Name: condition, dtype: int64"
            ]
          },
          "metadata": {},
          "execution_count": 8
        }
      ]
    },
    {
      "cell_type": "code",
      "source": [
        "df.columns"
      ],
      "metadata": {
        "colab": {
          "base_uri": "https://localhost:8080/"
        },
        "id": "C6O0NHfd5klg",
        "outputId": "88abc876-26dc-4efb-bc73-f83cafe25c28"
      },
      "execution_count": 9,
      "outputs": [
        {
          "output_type": "execute_result",
          "data": {
            "text/plain": [
              "Index(['pet_id', 'issue_date', 'listing_date', 'condition', 'color_type',\n",
              "       'length(m)', 'height(cm)', 'X1', 'X2', 'breed_category', 'pet_category',\n",
              "       'daycount', 'area'],\n",
              "      dtype='object')"
            ]
          },
          "metadata": {},
          "execution_count": 9
        }
      ]
    },
    {
      "cell_type": "code",
      "source": [
        "df = df.drop(['pet_id','issue_date','listing_date'],axis=1)"
      ],
      "metadata": {
        "id": "bbNI6sgE4yig"
      },
      "execution_count": 10,
      "outputs": []
    },
    {
      "cell_type": "code",
      "source": [
        "# Labelencoding\n",
        "from sklearn.preprocessing import LabelEncoder\n",
        "le = LabelEncoder()\n",
        "var_mod = df.select_dtypes(include='object').columns\n",
        "print(var_mod)\n",
        "for i in var_mod:\n",
        "    df[i] = le.fit_transform(df[i])"
      ],
      "metadata": {
        "colab": {
          "base_uri": "https://localhost:8080/"
        },
        "id": "ZIzKorMO5vCM",
        "outputId": "97536ef3-9edc-432d-b3b7-0f6ab02df6c6"
      },
      "execution_count": 11,
      "outputs": [
        {
          "output_type": "stream",
          "name": "stdout",
          "text": [
            "Index(['color_type'], dtype='object')\n"
          ]
        }
      ]
    },
    {
      "cell_type": "code",
      "source": [
        "df.head()"
      ],
      "metadata": {
        "colab": {
          "base_uri": "https://localhost:8080/",
          "height": 206
        },
        "id": "JT99njEe6ad1",
        "outputId": "ee78adf7-4580-4d9a-e626-485006bca843"
      },
      "execution_count": 12,
      "outputs": [
        {
          "output_type": "execute_result",
          "data": {
            "text/plain": [
              "   condition  color_type  length(m)  height(cm)  X1  X2  breed_category  \\\n",
              "0        2.0          18       0.80        7.78  13   9             0.0   \n",
              "1        1.0          53       0.72       14.19  13   9             0.0   \n",
              "2       -1.0          15       0.15       40.90  15   4             2.0   \n",
              "3        1.0          53       0.62       17.82   0   1             0.0   \n",
              "4        2.0           2       0.50       11.06  18   4             0.0   \n",
              "\n",
              "   pet_category  daycount     area  \n",
              "0             1        52   6.2240  \n",
              "1             2      1330  10.2168  \n",
              "2             4       537   6.1350  \n",
              "3             2       539  11.0484  \n",
              "4             1        37   5.5300  "
            ],
            "text/html": [
              "\n",
              "  <div id=\"df-c00146b5-a49c-4c7e-b033-b11491b15ae7\">\n",
              "    <div class=\"colab-df-container\">\n",
              "      <div>\n",
              "<style scoped>\n",
              "    .dataframe tbody tr th:only-of-type {\n",
              "        vertical-align: middle;\n",
              "    }\n",
              "\n",
              "    .dataframe tbody tr th {\n",
              "        vertical-align: top;\n",
              "    }\n",
              "\n",
              "    .dataframe thead th {\n",
              "        text-align: right;\n",
              "    }\n",
              "</style>\n",
              "<table border=\"1\" class=\"dataframe\">\n",
              "  <thead>\n",
              "    <tr style=\"text-align: right;\">\n",
              "      <th></th>\n",
              "      <th>condition</th>\n",
              "      <th>color_type</th>\n",
              "      <th>length(m)</th>\n",
              "      <th>height(cm)</th>\n",
              "      <th>X1</th>\n",
              "      <th>X2</th>\n",
              "      <th>breed_category</th>\n",
              "      <th>pet_category</th>\n",
              "      <th>daycount</th>\n",
              "      <th>area</th>\n",
              "    </tr>\n",
              "  </thead>\n",
              "  <tbody>\n",
              "    <tr>\n",
              "      <th>0</th>\n",
              "      <td>2.0</td>\n",
              "      <td>18</td>\n",
              "      <td>0.80</td>\n",
              "      <td>7.78</td>\n",
              "      <td>13</td>\n",
              "      <td>9</td>\n",
              "      <td>0.0</td>\n",
              "      <td>1</td>\n",
              "      <td>52</td>\n",
              "      <td>6.2240</td>\n",
              "    </tr>\n",
              "    <tr>\n",
              "      <th>1</th>\n",
              "      <td>1.0</td>\n",
              "      <td>53</td>\n",
              "      <td>0.72</td>\n",
              "      <td>14.19</td>\n",
              "      <td>13</td>\n",
              "      <td>9</td>\n",
              "      <td>0.0</td>\n",
              "      <td>2</td>\n",
              "      <td>1330</td>\n",
              "      <td>10.2168</td>\n",
              "    </tr>\n",
              "    <tr>\n",
              "      <th>2</th>\n",
              "      <td>-1.0</td>\n",
              "      <td>15</td>\n",
              "      <td>0.15</td>\n",
              "      <td>40.90</td>\n",
              "      <td>15</td>\n",
              "      <td>4</td>\n",
              "      <td>2.0</td>\n",
              "      <td>4</td>\n",
              "      <td>537</td>\n",
              "      <td>6.1350</td>\n",
              "    </tr>\n",
              "    <tr>\n",
              "      <th>3</th>\n",
              "      <td>1.0</td>\n",
              "      <td>53</td>\n",
              "      <td>0.62</td>\n",
              "      <td>17.82</td>\n",
              "      <td>0</td>\n",
              "      <td>1</td>\n",
              "      <td>0.0</td>\n",
              "      <td>2</td>\n",
              "      <td>539</td>\n",
              "      <td>11.0484</td>\n",
              "    </tr>\n",
              "    <tr>\n",
              "      <th>4</th>\n",
              "      <td>2.0</td>\n",
              "      <td>2</td>\n",
              "      <td>0.50</td>\n",
              "      <td>11.06</td>\n",
              "      <td>18</td>\n",
              "      <td>4</td>\n",
              "      <td>0.0</td>\n",
              "      <td>1</td>\n",
              "      <td>37</td>\n",
              "      <td>5.5300</td>\n",
              "    </tr>\n",
              "  </tbody>\n",
              "</table>\n",
              "</div>\n",
              "      <button class=\"colab-df-convert\" onclick=\"convertToInteractive('df-c00146b5-a49c-4c7e-b033-b11491b15ae7')\"\n",
              "              title=\"Convert this dataframe to an interactive table.\"\n",
              "              style=\"display:none;\">\n",
              "        \n",
              "  <svg xmlns=\"http://www.w3.org/2000/svg\" height=\"24px\"viewBox=\"0 0 24 24\"\n",
              "       width=\"24px\">\n",
              "    <path d=\"M0 0h24v24H0V0z\" fill=\"none\"/>\n",
              "    <path d=\"M18.56 5.44l.94 2.06.94-2.06 2.06-.94-2.06-.94-.94-2.06-.94 2.06-2.06.94zm-11 1L8.5 8.5l.94-2.06 2.06-.94-2.06-.94L8.5 2.5l-.94 2.06-2.06.94zm10 10l.94 2.06.94-2.06 2.06-.94-2.06-.94-.94-2.06-.94 2.06-2.06.94z\"/><path d=\"M17.41 7.96l-1.37-1.37c-.4-.4-.92-.59-1.43-.59-.52 0-1.04.2-1.43.59L10.3 9.45l-7.72 7.72c-.78.78-.78 2.05 0 2.83L4 21.41c.39.39.9.59 1.41.59.51 0 1.02-.2 1.41-.59l7.78-7.78 2.81-2.81c.8-.78.8-2.07 0-2.86zM5.41 20L4 18.59l7.72-7.72 1.47 1.35L5.41 20z\"/>\n",
              "  </svg>\n",
              "      </button>\n",
              "      \n",
              "  <style>\n",
              "    .colab-df-container {\n",
              "      display:flex;\n",
              "      flex-wrap:wrap;\n",
              "      gap: 12px;\n",
              "    }\n",
              "\n",
              "    .colab-df-convert {\n",
              "      background-color: #E8F0FE;\n",
              "      border: none;\n",
              "      border-radius: 50%;\n",
              "      cursor: pointer;\n",
              "      display: none;\n",
              "      fill: #1967D2;\n",
              "      height: 32px;\n",
              "      padding: 0 0 0 0;\n",
              "      width: 32px;\n",
              "    }\n",
              "\n",
              "    .colab-df-convert:hover {\n",
              "      background-color: #E2EBFA;\n",
              "      box-shadow: 0px 1px 2px rgba(60, 64, 67, 0.3), 0px 1px 3px 1px rgba(60, 64, 67, 0.15);\n",
              "      fill: #174EA6;\n",
              "    }\n",
              "\n",
              "    [theme=dark] .colab-df-convert {\n",
              "      background-color: #3B4455;\n",
              "      fill: #D2E3FC;\n",
              "    }\n",
              "\n",
              "    [theme=dark] .colab-df-convert:hover {\n",
              "      background-color: #434B5C;\n",
              "      box-shadow: 0px 1px 3px 1px rgba(0, 0, 0, 0.15);\n",
              "      filter: drop-shadow(0px 1px 2px rgba(0, 0, 0, 0.3));\n",
              "      fill: #FFFFFF;\n",
              "    }\n",
              "  </style>\n",
              "\n",
              "      <script>\n",
              "        const buttonEl =\n",
              "          document.querySelector('#df-c00146b5-a49c-4c7e-b033-b11491b15ae7 button.colab-df-convert');\n",
              "        buttonEl.style.display =\n",
              "          google.colab.kernel.accessAllowed ? 'block' : 'none';\n",
              "\n",
              "        async function convertToInteractive(key) {\n",
              "          const element = document.querySelector('#df-c00146b5-a49c-4c7e-b033-b11491b15ae7');\n",
              "          const dataTable =\n",
              "            await google.colab.kernel.invokeFunction('convertToInteractive',\n",
              "                                                     [key], {});\n",
              "          if (!dataTable) return;\n",
              "\n",
              "          const docLinkHtml = 'Like what you see? Visit the ' +\n",
              "            '<a target=\"_blank\" href=https://colab.research.google.com/notebooks/data_table.ipynb>data table notebook</a>'\n",
              "            + ' to learn more about interactive tables.';\n",
              "          element.innerHTML = '';\n",
              "          dataTable['output_type'] = 'display_data';\n",
              "          await google.colab.output.renderOutput(dataTable, element);\n",
              "          const docLink = document.createElement('div');\n",
              "          docLink.innerHTML = docLinkHtml;\n",
              "          element.appendChild(docLink);\n",
              "        }\n",
              "      </script>\n",
              "    </div>\n",
              "  </div>\n",
              "  "
            ]
          },
          "metadata": {},
          "execution_count": 12
        }
      ]
    },
    {
      "cell_type": "code",
      "source": [
        "df.describe()"
      ],
      "metadata": {
        "colab": {
          "base_uri": "https://localhost:8080/",
          "height": 300
        },
        "id": "BNZKElKu5gFx",
        "outputId": "f2917c1f-dd20-450d-a5f2-0621f54adb5c"
      },
      "execution_count": 14,
      "outputs": [
        {
          "output_type": "execute_result",
          "data": {
            "text/plain": [
              "          condition    color_type     length(m)    height(cm)            X1  \\\n",
              "count  18834.000000  18834.000000  18834.000000  18834.000000  18834.000000   \n",
              "mean       0.735691     24.560529      0.502636     27.448832      5.369598   \n",
              "std        0.896321     19.432010      0.288705     13.019781      6.572366   \n",
              "min       -1.000000      0.000000      0.000000      5.000000      0.000000   \n",
              "25%        0.000000      4.000000      0.250000     16.172500      0.000000   \n",
              "50%        1.000000     18.000000      0.500000     27.340000      0.000000   \n",
              "75%        1.000000     48.000000      0.760000     38.890000     13.000000   \n",
              "max        2.000000     55.000000      1.000000     50.000000     19.000000   \n",
              "\n",
              "                 X2  breed_category  pet_category      daycount          area  \n",
              "count  18834.000000    18834.000000  18834.000000  18834.000000  18834.000000  \n",
              "mean       4.577307        0.600563      1.709143    610.951896     13.779984  \n",
              "std        3.517763        0.629883      0.717919    783.340614     10.940373  \n",
              "min        0.000000        0.000000      0.000000    -54.000000      0.000000  \n",
              "25%        1.000000        0.000000      1.000000     85.000000      4.944725  \n",
              "50%        4.000000        1.000000      2.000000    280.000000     10.942500  \n",
              "75%        9.000000        1.000000      2.000000    798.000000     20.483575  \n",
              "max        9.000000        2.000000      4.000000   5754.000000     49.780000  "
            ],
            "text/html": [
              "\n",
              "  <div id=\"df-ff0ecc86-e932-4057-8b86-4277bef8859a\">\n",
              "    <div class=\"colab-df-container\">\n",
              "      <div>\n",
              "<style scoped>\n",
              "    .dataframe tbody tr th:only-of-type {\n",
              "        vertical-align: middle;\n",
              "    }\n",
              "\n",
              "    .dataframe tbody tr th {\n",
              "        vertical-align: top;\n",
              "    }\n",
              "\n",
              "    .dataframe thead th {\n",
              "        text-align: right;\n",
              "    }\n",
              "</style>\n",
              "<table border=\"1\" class=\"dataframe\">\n",
              "  <thead>\n",
              "    <tr style=\"text-align: right;\">\n",
              "      <th></th>\n",
              "      <th>condition</th>\n",
              "      <th>color_type</th>\n",
              "      <th>length(m)</th>\n",
              "      <th>height(cm)</th>\n",
              "      <th>X1</th>\n",
              "      <th>X2</th>\n",
              "      <th>breed_category</th>\n",
              "      <th>pet_category</th>\n",
              "      <th>daycount</th>\n",
              "      <th>area</th>\n",
              "    </tr>\n",
              "  </thead>\n",
              "  <tbody>\n",
              "    <tr>\n",
              "      <th>count</th>\n",
              "      <td>18834.000000</td>\n",
              "      <td>18834.000000</td>\n",
              "      <td>18834.000000</td>\n",
              "      <td>18834.000000</td>\n",
              "      <td>18834.000000</td>\n",
              "      <td>18834.000000</td>\n",
              "      <td>18834.000000</td>\n",
              "      <td>18834.000000</td>\n",
              "      <td>18834.000000</td>\n",
              "      <td>18834.000000</td>\n",
              "    </tr>\n",
              "    <tr>\n",
              "      <th>mean</th>\n",
              "      <td>0.735691</td>\n",
              "      <td>24.560529</td>\n",
              "      <td>0.502636</td>\n",
              "      <td>27.448832</td>\n",
              "      <td>5.369598</td>\n",
              "      <td>4.577307</td>\n",
              "      <td>0.600563</td>\n",
              "      <td>1.709143</td>\n",
              "      <td>610.951896</td>\n",
              "      <td>13.779984</td>\n",
              "    </tr>\n",
              "    <tr>\n",
              "      <th>std</th>\n",
              "      <td>0.896321</td>\n",
              "      <td>19.432010</td>\n",
              "      <td>0.288705</td>\n",
              "      <td>13.019781</td>\n",
              "      <td>6.572366</td>\n",
              "      <td>3.517763</td>\n",
              "      <td>0.629883</td>\n",
              "      <td>0.717919</td>\n",
              "      <td>783.340614</td>\n",
              "      <td>10.940373</td>\n",
              "    </tr>\n",
              "    <tr>\n",
              "      <th>min</th>\n",
              "      <td>-1.000000</td>\n",
              "      <td>0.000000</td>\n",
              "      <td>0.000000</td>\n",
              "      <td>5.000000</td>\n",
              "      <td>0.000000</td>\n",
              "      <td>0.000000</td>\n",
              "      <td>0.000000</td>\n",
              "      <td>0.000000</td>\n",
              "      <td>-54.000000</td>\n",
              "      <td>0.000000</td>\n",
              "    </tr>\n",
              "    <tr>\n",
              "      <th>25%</th>\n",
              "      <td>0.000000</td>\n",
              "      <td>4.000000</td>\n",
              "      <td>0.250000</td>\n",
              "      <td>16.172500</td>\n",
              "      <td>0.000000</td>\n",
              "      <td>1.000000</td>\n",
              "      <td>0.000000</td>\n",
              "      <td>1.000000</td>\n",
              "      <td>85.000000</td>\n",
              "      <td>4.944725</td>\n",
              "    </tr>\n",
              "    <tr>\n",
              "      <th>50%</th>\n",
              "      <td>1.000000</td>\n",
              "      <td>18.000000</td>\n",
              "      <td>0.500000</td>\n",
              "      <td>27.340000</td>\n",
              "      <td>0.000000</td>\n",
              "      <td>4.000000</td>\n",
              "      <td>1.000000</td>\n",
              "      <td>2.000000</td>\n",
              "      <td>280.000000</td>\n",
              "      <td>10.942500</td>\n",
              "    </tr>\n",
              "    <tr>\n",
              "      <th>75%</th>\n",
              "      <td>1.000000</td>\n",
              "      <td>48.000000</td>\n",
              "      <td>0.760000</td>\n",
              "      <td>38.890000</td>\n",
              "      <td>13.000000</td>\n",
              "      <td>9.000000</td>\n",
              "      <td>1.000000</td>\n",
              "      <td>2.000000</td>\n",
              "      <td>798.000000</td>\n",
              "      <td>20.483575</td>\n",
              "    </tr>\n",
              "    <tr>\n",
              "      <th>max</th>\n",
              "      <td>2.000000</td>\n",
              "      <td>55.000000</td>\n",
              "      <td>1.000000</td>\n",
              "      <td>50.000000</td>\n",
              "      <td>19.000000</td>\n",
              "      <td>9.000000</td>\n",
              "      <td>2.000000</td>\n",
              "      <td>4.000000</td>\n",
              "      <td>5754.000000</td>\n",
              "      <td>49.780000</td>\n",
              "    </tr>\n",
              "  </tbody>\n",
              "</table>\n",
              "</div>\n",
              "      <button class=\"colab-df-convert\" onclick=\"convertToInteractive('df-ff0ecc86-e932-4057-8b86-4277bef8859a')\"\n",
              "              title=\"Convert this dataframe to an interactive table.\"\n",
              "              style=\"display:none;\">\n",
              "        \n",
              "  <svg xmlns=\"http://www.w3.org/2000/svg\" height=\"24px\"viewBox=\"0 0 24 24\"\n",
              "       width=\"24px\">\n",
              "    <path d=\"M0 0h24v24H0V0z\" fill=\"none\"/>\n",
              "    <path d=\"M18.56 5.44l.94 2.06.94-2.06 2.06-.94-2.06-.94-.94-2.06-.94 2.06-2.06.94zm-11 1L8.5 8.5l.94-2.06 2.06-.94-2.06-.94L8.5 2.5l-.94 2.06-2.06.94zm10 10l.94 2.06.94-2.06 2.06-.94-2.06-.94-.94-2.06-.94 2.06-2.06.94z\"/><path d=\"M17.41 7.96l-1.37-1.37c-.4-.4-.92-.59-1.43-.59-.52 0-1.04.2-1.43.59L10.3 9.45l-7.72 7.72c-.78.78-.78 2.05 0 2.83L4 21.41c.39.39.9.59 1.41.59.51 0 1.02-.2 1.41-.59l7.78-7.78 2.81-2.81c.8-.78.8-2.07 0-2.86zM5.41 20L4 18.59l7.72-7.72 1.47 1.35L5.41 20z\"/>\n",
              "  </svg>\n",
              "      </button>\n",
              "      \n",
              "  <style>\n",
              "    .colab-df-container {\n",
              "      display:flex;\n",
              "      flex-wrap:wrap;\n",
              "      gap: 12px;\n",
              "    }\n",
              "\n",
              "    .colab-df-convert {\n",
              "      background-color: #E8F0FE;\n",
              "      border: none;\n",
              "      border-radius: 50%;\n",
              "      cursor: pointer;\n",
              "      display: none;\n",
              "      fill: #1967D2;\n",
              "      height: 32px;\n",
              "      padding: 0 0 0 0;\n",
              "      width: 32px;\n",
              "    }\n",
              "\n",
              "    .colab-df-convert:hover {\n",
              "      background-color: #E2EBFA;\n",
              "      box-shadow: 0px 1px 2px rgba(60, 64, 67, 0.3), 0px 1px 3px 1px rgba(60, 64, 67, 0.15);\n",
              "      fill: #174EA6;\n",
              "    }\n",
              "\n",
              "    [theme=dark] .colab-df-convert {\n",
              "      background-color: #3B4455;\n",
              "      fill: #D2E3FC;\n",
              "    }\n",
              "\n",
              "    [theme=dark] .colab-df-convert:hover {\n",
              "      background-color: #434B5C;\n",
              "      box-shadow: 0px 1px 3px 1px rgba(0, 0, 0, 0.15);\n",
              "      filter: drop-shadow(0px 1px 2px rgba(0, 0, 0, 0.3));\n",
              "      fill: #FFFFFF;\n",
              "    }\n",
              "  </style>\n",
              "\n",
              "      <script>\n",
              "        const buttonEl =\n",
              "          document.querySelector('#df-ff0ecc86-e932-4057-8b86-4277bef8859a button.colab-df-convert');\n",
              "        buttonEl.style.display =\n",
              "          google.colab.kernel.accessAllowed ? 'block' : 'none';\n",
              "\n",
              "        async function convertToInteractive(key) {\n",
              "          const element = document.querySelector('#df-ff0ecc86-e932-4057-8b86-4277bef8859a');\n",
              "          const dataTable =\n",
              "            await google.colab.kernel.invokeFunction('convertToInteractive',\n",
              "                                                     [key], {});\n",
              "          if (!dataTable) return;\n",
              "\n",
              "          const docLinkHtml = 'Like what you see? Visit the ' +\n",
              "            '<a target=\"_blank\" href=https://colab.research.google.com/notebooks/data_table.ipynb>data table notebook</a>'\n",
              "            + ' to learn more about interactive tables.';\n",
              "          element.innerHTML = '';\n",
              "          dataTable['output_type'] = 'display_data';\n",
              "          await google.colab.output.renderOutput(dataTable, element);\n",
              "          const docLink = document.createElement('div');\n",
              "          docLink.innerHTML = docLinkHtml;\n",
              "          element.appendChild(docLink);\n",
              "        }\n",
              "      </script>\n",
              "    </div>\n",
              "  </div>\n",
              "  "
            ]
          },
          "metadata": {},
          "execution_count": 14
        }
      ]
    },
    {
      "cell_type": "code",
      "source": [
        "plt.figure(figsize=(10,8))\n",
        "sns.heatmap(df.corr(),annot=True)"
      ],
      "metadata": {
        "colab": {
          "base_uri": "https://localhost:8080/",
          "height": 572
        },
        "id": "pu9cpqnz5gDq",
        "outputId": "8d4950a0-571f-478a-d855-ace5adcead16"
      },
      "execution_count": 23,
      "outputs": [
        {
          "output_type": "execute_result",
          "data": {
            "text/plain": [
              "<Axes: >"
            ]
          },
          "metadata": {},
          "execution_count": 23
        },
        {
          "output_type": "display_data",
          "data": {
            "text/plain": [
              "<Figure size 720x576 with 2 Axes>"
            ],
            "image/png": "[encoded data removed]"
          },
          "metadata": {
            "needs_background": "light"
          }
        }
      ]
    },
    {
      "cell_type": "code",
      "source": [
        "y1 = df['breed_category']\n",
        "y2 = df['pet_category']\n",
        "x = df.drop(['breed_category','pet_category'],axis=1)"
      ],
      "metadata": {
        "id": "H1QrlvXo6cCe"
      },
      "execution_count": 24,
      "outputs": []
    },
    {
      "cell_type": "code",
      "source": [
        "x = np.asanyarray(x)\n",
        "y1 = np.asanyarray(y1)\n",
        "y2 = np.asanyarray(y2)"
      ],
      "metadata": {
        "id": "wMnzbYxH7RWH"
      },
      "execution_count": 25,
      "outputs": []
    },
    {
      "cell_type": "code",
      "source": [
        "print(len(x),len(y1),len(y2))"
      ],
      "metadata": {
        "colab": {
          "base_uri": "https://localhost:8080/"
        },
        "id": "x8iDG7D07age",
        "outputId": "79893242-813b-4b4a-fed5-c95923a2a283"
      },
      "execution_count": 26,
      "outputs": [
        {
          "output_type": "stream",
          "name": "stdout",
          "text": [
            "18834 18834 18834\n"
          ]
        }
      ]
    },
    {
      "cell_type": "markdown",
      "source": [
        "###Machine learning models to predict breed category"
      ],
      "metadata": {
        "id": "l2gyJ5L39TkU"
      }
    },
    {
      "cell_type": "code",
      "source": [
        "#splitting Train and Test data into 80% and 20% respectively\n",
        "from sklearn.model_selection import train_test_split\n",
        "from sklearn.utils import shuffle\n",
        "\n",
        "xtrain, xtest, ytrain, ytest = train_test_split(x,y1,test_size=0.2,random_state = 1)\n",
        "\n",
        "xtrain, ytrain = shuffle(xtrain,ytrain,random_state=0)\n",
        "xtest, ytest = shuffle(xtest,ytest,random_state=0)"
      ],
      "metadata": {
        "id": "XtfXrCTP7fHI"
      },
      "execution_count": 43,
      "outputs": []
    },
    {
      "cell_type": "code",
      "source": [
        "#import classification metrics\n",
        "from sklearn import metrics\n",
        "from sklearn.metrics import confusion_matrix\n",
        "from sklearn import metrics\n",
        "from sklearn.metrics import confusion_matrix, accuracy_score"
      ],
      "metadata": {
        "id": "zhFLWbEx7vjV"
      },
      "execution_count": 44,
      "outputs": []
    },
    {
      "cell_type": "code",
      "source": [
        "#Function to print classification report \n",
        "def metrice_report(ytest,yhat):\n",
        "  print(\"Accuracy\",metrics.accuracy_score(ytest,yhat))\n",
        "  print(\"Confusion matrix\")\n",
        "  print(metrics.confusion_matrix(ytest,yhat))\n",
        "  print(\"Classification Report\")\n",
        "  print(metrics.classification_report(ytest,yhat))"
      ],
      "metadata": {
        "id": "43XtHGkf7ycm"
      },
      "execution_count": 45,
      "outputs": []
    },
    {
      "cell_type": "code",
      "source": [
        "#Decision Tree classifier Alogarithm\n",
        "from sklearn.tree import DecisionTreeClassifier\n",
        "de=5\n",
        "dtree = DecisionTreeClassifier(criterion='entropy',max_depth=de).fit(xtrain,ytrain)\n",
        "#dtree.fit(xtrain,ytrain)\n",
        "pt = dtree.predict(xtest)\n",
        "metrice_report(ytest,pt)"
      ],
      "metadata": {
        "colab": {
          "base_uri": "https://localhost:8080/"
        },
        "id": "6nQnDVyt7z4t",
        "outputId": "cf75c3af-7d38-44db-8280-826adab4e60e"
      },
      "execution_count": 46,
      "outputs": [
        {
          "output_type": "stream",
          "name": "stdout",
          "text": [
            "Accuracy 0.895142022829838\n",
            "Confusion matrix\n",
            "[[1528  245    0]\n",
            " [ 150 1543    0]\n",
            " [   0    0  301]]\n",
            "Classification Report\n",
            "              precision    recall  f1-score   support\n",
            "\n",
            "         0.0       0.91      0.86      0.89      1773\n",
            "         1.0       0.86      0.91      0.89      1693\n",
            "         2.0       1.00      1.00      1.00       301\n",
            "\n",
            "    accuracy                           0.90      3767\n",
            "   macro avg       0.92      0.92      0.92      3767\n",
            "weighted avg       0.90      0.90      0.90      3767\n",
            "\n"
          ]
        }
      ]
    },
    {
      "cell_type": "code",
      "source": [
        "#K Nearest Neighbour Alogarithm\n",
        "from sklearn.neighbors import KNeighborsClassifier\n",
        "kclassifier = KNeighborsClassifier(4)\n",
        "kclassifier.fit(xtrain,ytrain)\n",
        "knn = kclassifier.predict(xtest)\n",
        "metrice_report(ytest,knn)"
      ],
      "metadata": {
        "colab": {
          "base_uri": "https://localhost:8080/"
        },
        "id": "gDGWOQu973HF",
        "outputId": "233f6b60-5b52-417b-8bd6-3560a5d942b9"
      },
      "execution_count": 47,
      "outputs": [
        {
          "output_type": "stream",
          "name": "stdout",
          "text": [
            "Accuracy 0.5147332094504911\n",
            "Confusion matrix\n",
            "[[1257  486   30]\n",
            " [1133  534   26]\n",
            " [  84   69  148]]\n",
            "Classification Report\n",
            "              precision    recall  f1-score   support\n",
            "\n",
            "         0.0       0.51      0.71      0.59      1773\n",
            "         1.0       0.49      0.32      0.38      1693\n",
            "         2.0       0.73      0.49      0.59       301\n",
            "\n",
            "    accuracy                           0.51      3767\n",
            "   macro avg       0.57      0.51      0.52      3767\n",
            "weighted avg       0.52      0.51      0.50      3767\n",
            "\n"
          ]
        }
      ]
    },
    {
      "cell_type": "code",
      "source": [
        "#Naive Bayes Alogarithm\n",
        "from sklearn.naive_bayes import GaussianNB\n",
        "Nclassifier = GaussianNB()\n",
        "Nclassifier.fit(xtrain, ytrain)\n",
        "nb = Nclassifier.predict(xtest)\n",
        "metrice_report(ytest,nb)"
      ],
      "metadata": {
        "colab": {
          "base_uri": "https://localhost:8080/"
        },
        "id": "4xr9IEup7--Z",
        "outputId": "04a91d7b-aa6e-4469-c0a8-ecb7ed8fabd4"
      },
      "execution_count": 48,
      "outputs": [
        {
          "output_type": "stream",
          "name": "stdout",
          "text": [
            "Accuracy 0.8792142288293071\n",
            "Confusion matrix\n",
            "[[1773    0    0]\n",
            " [ 447 1246    0]\n",
            " [   0    8  293]]\n",
            "Classification Report\n",
            "              precision    recall  f1-score   support\n",
            "\n",
            "         0.0       0.80      1.00      0.89      1773\n",
            "         1.0       0.99      0.74      0.85      1693\n",
            "         2.0       1.00      0.97      0.99       301\n",
            "\n",
            "    accuracy                           0.88      3767\n",
            "   macro avg       0.93      0.90      0.91      3767\n",
            "weighted avg       0.90      0.88      0.88      3767\n",
            "\n"
          ]
        }
      ]
    },
    {
      "cell_type": "code",
      "source": [
        "#Random Forest classifier Alogarithm \n",
        "from sklearn.ensemble import RandomForestClassifier\n",
        "RFC = RandomForestClassifier(n_estimators=50,random_state=5)\n",
        "RFC.fit(xtrain,ytrain)\n",
        "yhat = RFC.predict(xtest)\n",
        "metrice_report(ytest,yhat)"
      ],
      "metadata": {
        "colab": {
          "base_uri": "https://localhost:8080/"
        },
        "id": "VqmfFhio8CVv",
        "outputId": "ca431cd1-64db-49ea-8659-c644280ce14e"
      },
      "execution_count": 49,
      "outputs": [
        {
          "output_type": "stream",
          "name": "stdout",
          "text": [
            "Accuracy 0.892221927263074\n",
            "Confusion matrix\n",
            "[[1622  151    0]\n",
            " [ 255 1438    0]\n",
            " [   0    0  301]]\n",
            "Classification Report\n",
            "              precision    recall  f1-score   support\n",
            "\n",
            "         0.0       0.86      0.91      0.89      1773\n",
            "         1.0       0.90      0.85      0.88      1693\n",
            "         2.0       1.00      1.00      1.00       301\n",
            "\n",
            "    accuracy                           0.89      3767\n",
            "   macro avg       0.92      0.92      0.92      3767\n",
            "weighted avg       0.89      0.89      0.89      3767\n",
            "\n"
          ]
        }
      ]
    },
    {
      "cell_type": "code",
      "source": [
        "#Support vector Machine Alogarithm\n",
        "from sklearn.svm import SVC\n",
        "sclassifier = SVC(kernel = 'rbf', random_state = 1)\n",
        "sclassifier.fit(xtrain, ytrain)\n",
        "sv = sclassifier.predict(xtest)\n",
        "metrice_report(ytest,sv)"
      ],
      "metadata": {
        "colab": {
          "base_uri": "https://localhost:8080/"
        },
        "id": "vQ_qf46G8E2k",
        "outputId": "e41a654d-2ba0-4d92-c33e-f9782b9ea441"
      },
      "execution_count": 50,
      "outputs": [
        {
          "output_type": "stream",
          "name": "stdout",
          "text": [
            "Accuracy 0.4690735333156358\n",
            "Confusion matrix\n",
            "[[1047  726    0]\n",
            " [ 973  720    0]\n",
            " [ 151  150    0]]\n",
            "Classification Report\n",
            "              precision    recall  f1-score   support\n",
            "\n",
            "         0.0       0.48      0.59      0.53      1773\n",
            "         1.0       0.45      0.43      0.44      1693\n",
            "         2.0       0.00      0.00      0.00       301\n",
            "\n",
            "    accuracy                           0.47      3767\n",
            "   macro avg       0.31      0.34      0.32      3767\n",
            "weighted avg       0.43      0.47      0.45      3767\n",
            "\n"
          ]
        },
        {
          "output_type": "stream",
          "name": "stderr",
          "text": [
            "/usr/local/lib/python3.9/dist-packages/sklearn/metrics/_classification.py:1344: UndefinedMetricWarning: Precision and F-score are ill-defined and being set to 0.0 in labels with no predicted samples. Use `zero_division` parameter to control this behavior.\n",
            "  _warn_prf(average, modifier, msg_start, len(result))\n",
            "/usr/local/lib/python3.9/dist-packages/sklearn/metrics/_classification.py:1344: UndefinedMetricWarning: Precision and F-score are ill-defined and being set to 0.0 in labels with no predicted samples. Use `zero_division` parameter to control this behavior.\n",
            "  _warn_prf(average, modifier, msg_start, len(result))\n",
            "/usr/local/lib/python3.9/dist-packages/sklearn/metrics/_classification.py:1344: UndefinedMetricWarning: Precision and F-score are ill-defined and being set to 0.0 in labels with no predicted samples. Use `zero_division` parameter to control this behavior.\n",
            "  _warn_prf(average, modifier, msg_start, len(result))\n"
          ]
        }
      ]
    },
    {
      "cell_type": "code",
      "source": [
        "#XGBoost Alogarithm\n",
        "from xgboost import XGBClassifier\n",
        "xgbclassifier = XGBClassifier()\n",
        "xgbclassifier.fit(xtrain, ytrain)\n",
        "yhat = xgbclassifier.predict(xtest)\n",
        "metrice_report(ytest,yhat)"
      ],
      "metadata": {
        "colab": {
          "base_uri": "https://localhost:8080/"
        },
        "id": "BpyPF2ya8IHU",
        "outputId": "fbcd4140-5e17-46a7-9599-090fff0dbf65"
      },
      "execution_count": 51,
      "outputs": [
        {
          "output_type": "stream",
          "name": "stdout",
          "text": [
            "Accuracy 0.8956729492965224\n",
            "Confusion matrix\n",
            "[[1597  176    0]\n",
            " [ 217 1476    0]\n",
            " [   0    0  301]]\n",
            "Classification Report\n",
            "              precision    recall  f1-score   support\n",
            "\n",
            "         0.0       0.88      0.90      0.89      1773\n",
            "         1.0       0.89      0.87      0.88      1693\n",
            "         2.0       1.00      1.00      1.00       301\n",
            "\n",
            "    accuracy                           0.90      3767\n",
            "   macro avg       0.92      0.92      0.92      3767\n",
            "weighted avg       0.90      0.90      0.90      3767\n",
            "\n"
          ]
        }
      ]
    },
    {
      "cell_type": "markdown",
      "source": [
        "###Machine learning models to predict pet category"
      ],
      "metadata": {
        "id": "UYifIaBz9fHI"
      }
    },
    {
      "cell_type": "code",
      "source": [
        "#splitting Train and Test data into 80% and 20% respectively\n",
        "from sklearn.model_selection import train_test_split\n",
        "from sklearn.utils import shuffle\n",
        "\n",
        "xtrain, xtest, ytrain, ytest = train_test_split(x,y2,test_size=0.2,random_state = 1)\n",
        "\n",
        "xtrain, ytrain = shuffle(xtrain,ytrain,random_state=0)\n",
        "xtest, ytest = shuffle(xtest,ytest,random_state=0)"
      ],
      "metadata": {
        "id": "A0E6HvMY8OuP"
      },
      "execution_count": 52,
      "outputs": []
    },
    {
      "cell_type": "code",
      "source": [
        "#Decision Tree classifier Alogarithm\n",
        "from sklearn.tree import DecisionTreeClassifier\n",
        "de=5\n",
        "dtree = DecisionTreeClassifier(criterion='entropy',max_depth=de).fit(xtrain,ytrain)\n",
        "#dtree.fit(xtrain,ytrain)\n",
        "pt = dtree.predict(xtest)\n",
        "metrice_report(ytest,pt)"
      ],
      "metadata": {
        "colab": {
          "base_uri": "https://localhost:8080/"
        },
        "id": "zpSlKqf38Y8F",
        "outputId": "57414f6d-02a5-4913-abe9-76d025fa763b"
      },
      "execution_count": 53,
      "outputs": [
        {
          "output_type": "stream",
          "name": "stdout",
          "text": [
            "Accuracy 0.8282452880276082\n",
            "Confusion matrix\n",
            "[[   4    2    9    5]\n",
            " [   0 1140  284   15]\n",
            " [   0  288 1826    8]\n",
            " [   0    8   28  150]]\n",
            "Classification Report\n",
            "              precision    recall  f1-score   support\n",
            "\n",
            "           0       1.00      0.20      0.33        20\n",
            "           1       0.79      0.79      0.79      1439\n",
            "           2       0.85      0.86      0.86      2122\n",
            "           4       0.84      0.81      0.82       186\n",
            "\n",
            "    accuracy                           0.83      3767\n",
            "   macro avg       0.87      0.66      0.70      3767\n",
            "weighted avg       0.83      0.83      0.83      3767\n",
            "\n"
          ]
        }
      ]
    },
    {
      "cell_type": "code",
      "source": [
        "#K Nearest Neighbour Alogarithm\n",
        "from sklearn.neighbors import KNeighborsClassifier\n",
        "kclassifier = KNeighborsClassifier(4)\n",
        "kclassifier.fit(xtrain,ytrain)\n",
        "knn = kclassifier.predict(xtest)\n",
        "metrice_report(ytest,knn)"
      ],
      "metadata": {
        "colab": {
          "base_uri": "https://localhost:8080/"
        },
        "id": "ydXBrcVG8f0K",
        "outputId": "5aeaf85d-cc75-442a-8239-bcf83469de93"
      },
      "execution_count": 54,
      "outputs": [
        {
          "output_type": "stream",
          "name": "stdout",
          "text": [
            "Accuracy 0.7048048845234935\n",
            "Confusion matrix\n",
            "[[   0    8    7    5]\n",
            " [   0 1051  368   20]\n",
            " [   3  593 1516   10]\n",
            " [   2   50   46   88]]\n",
            "Classification Report\n",
            "              precision    recall  f1-score   support\n",
            "\n",
            "           0       0.00      0.00      0.00        20\n",
            "           1       0.62      0.73      0.67      1439\n",
            "           2       0.78      0.71      0.75      2122\n",
            "           4       0.72      0.47      0.57       186\n",
            "\n",
            "    accuracy                           0.70      3767\n",
            "   macro avg       0.53      0.48      0.50      3767\n",
            "weighted avg       0.71      0.70      0.70      3767\n",
            "\n"
          ]
        }
      ]
    },
    {
      "cell_type": "code",
      "source": [
        "#Naive Bayes Alogarithm\n",
        "from sklearn.naive_bayes import GaussianNB\n",
        "Nclassifier = GaussianNB()\n",
        "Nclassifier.fit(xtrain, ytrain)\n",
        "nb = Nclassifier.predict(xtest)\n",
        "metrice_report(ytest,nb)"
      ],
      "metadata": {
        "colab": {
          "base_uri": "https://localhost:8080/"
        },
        "id": "Lw2a5k-98wmf",
        "outputId": "6c81bc41-7156-4fd9-9e3a-defbcf77383d"
      },
      "execution_count": 55,
      "outputs": [
        {
          "output_type": "stream",
          "name": "stdout",
          "text": [
            "Accuracy 0.6806477302893549\n",
            "Confusion matrix\n",
            "[[   0    6   10    4]\n",
            " [   0  727  696   16]\n",
            " [   0  402 1716    4]\n",
            " [   0   43   22  121]]\n",
            "Classification Report\n",
            "              precision    recall  f1-score   support\n",
            "\n",
            "           0       0.00      0.00      0.00        20\n",
            "           1       0.62      0.51      0.56      1439\n",
            "           2       0.70      0.81      0.75      2122\n",
            "           4       0.83      0.65      0.73       186\n",
            "\n",
            "    accuracy                           0.68      3767\n",
            "   macro avg       0.54      0.49      0.51      3767\n",
            "weighted avg       0.67      0.68      0.67      3767\n",
            "\n"
          ]
        },
        {
          "output_type": "stream",
          "name": "stderr",
          "text": [
            "/usr/local/lib/python3.9/dist-packages/sklearn/metrics/_classification.py:1344: UndefinedMetricWarning: Precision and F-score are ill-defined and being set to 0.0 in labels with no predicted samples. Use `zero_division` parameter to control this behavior.\n",
            "  _warn_prf(average, modifier, msg_start, len(result))\n",
            "/usr/local/lib/python3.9/dist-packages/sklearn/metrics/_classification.py:1344: UndefinedMetricWarning: Precision and F-score are ill-defined and being set to 0.0 in labels with no predicted samples. Use `zero_division` parameter to control this behavior.\n",
            "  _warn_prf(average, modifier, msg_start, len(result))\n",
            "/usr/local/lib/python3.9/dist-packages/sklearn/metrics/_classification.py:1344: UndefinedMetricWarning: Precision and F-score are ill-defined and being set to 0.0 in labels with no predicted samples. Use `zero_division` parameter to control this behavior.\n",
            "  _warn_prf(average, modifier, msg_start, len(result))\n"
          ]
        }
      ]
    },
    {
      "cell_type": "code",
      "source": [
        "#Random Forest classifier Alogarithm \n",
        "from sklearn.ensemble import RandomForestClassifier\n",
        "RFC = RandomForestClassifier(n_estimators=50,random_state=5)\n",
        "RFC.fit(xtrain,ytrain)\n",
        "yhat = RFC.predict(xtest)\n",
        "metrice_report(ytest,yhat)"
      ],
      "metadata": {
        "colab": {
          "base_uri": "https://localhost:8080/"
        },
        "id": "L14yvD_o81CN",
        "outputId": "d75f52af-25d1-4e8c-b1f3-87ca07767a0d"
      },
      "execution_count": 56,
      "outputs": [
        {
          "output_type": "stream",
          "name": "stdout",
          "text": [
            "Accuracy 0.8720467215290683\n",
            "Confusion matrix\n",
            "[[   5    1    8    6]\n",
            " [   1 1206  223    9]\n",
            " [   0  190 1926    6]\n",
            " [   1    4   33  148]]\n",
            "Classification Report\n",
            "              precision    recall  f1-score   support\n",
            "\n",
            "           0       0.71      0.25      0.37        20\n",
            "           1       0.86      0.84      0.85      1439\n",
            "           2       0.88      0.91      0.89      2122\n",
            "           4       0.88      0.80      0.83       186\n",
            "\n",
            "    accuracy                           0.87      3767\n",
            "   macro avg       0.83      0.70      0.74      3767\n",
            "weighted avg       0.87      0.87      0.87      3767\n",
            "\n"
          ]
        }
      ]
    },
    {
      "cell_type": "code",
      "source": [
        "#Support vector Machine Alogarithm\n",
        "from sklearn.svm import SVC\n",
        "sclassifier = SVC(kernel = 'rbf', random_state = 1)\n",
        "sclassifier.fit(xtrain, ytrain)\n",
        "sv = sclassifier.predict(xtest)\n",
        "metrice_report(ytest,sv)"
      ],
      "metadata": {
        "colab": {
          "base_uri": "https://localhost:8080/"
        },
        "id": "tLPV3Tbz83VS",
        "outputId": "2b786911-f04c-4867-c2ec-748dfe2d291c"
      },
      "execution_count": 57,
      "outputs": [
        {
          "output_type": "stream",
          "name": "stdout",
          "text": [
            "Accuracy 0.6902044066896735\n",
            "Confusion matrix\n",
            "[[   0    3   17    0]\n",
            " [   0  878  561    0]\n",
            " [   0  400 1722    0]\n",
            " [   0   41  145    0]]\n",
            "Classification Report\n",
            "              precision    recall  f1-score   support\n",
            "\n",
            "           0       0.00      0.00      0.00        20\n",
            "           1       0.66      0.61      0.64      1439\n",
            "           2       0.70      0.81      0.75      2122\n",
            "           4       0.00      0.00      0.00       186\n",
            "\n",
            "    accuracy                           0.69      3767\n",
            "   macro avg       0.34      0.36      0.35      3767\n",
            "weighted avg       0.65      0.69      0.67      3767\n",
            "\n"
          ]
        },
        {
          "output_type": "stream",
          "name": "stderr",
          "text": [
            "/usr/local/lib/python3.9/dist-packages/sklearn/metrics/_classification.py:1344: UndefinedMetricWarning: Precision and F-score are ill-defined and being set to 0.0 in labels with no predicted samples. Use `zero_division` parameter to control this behavior.\n",
            "  _warn_prf(average, modifier, msg_start, len(result))\n",
            "/usr/local/lib/python3.9/dist-packages/sklearn/metrics/_classification.py:1344: UndefinedMetricWarning: Precision and F-score are ill-defined and being set to 0.0 in labels with no predicted samples. Use `zero_division` parameter to control this behavior.\n",
            "  _warn_prf(average, modifier, msg_start, len(result))\n",
            "/usr/local/lib/python3.9/dist-packages/sklearn/metrics/_classification.py:1344: UndefinedMetricWarning: Precision and F-score are ill-defined and being set to 0.0 in labels with no predicted samples. Use `zero_division` parameter to control this behavior.\n",
            "  _warn_prf(average, modifier, msg_start, len(result))\n"
          ]
        }
      ]
    }
  ]
}